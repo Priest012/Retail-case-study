{
 "cells": [
  {
   "cell_type": "code",
   "execution_count": 1,
   "id": "ee619478",
   "metadata": {},
   "outputs": [],
   "source": [
    "# importing the required packages for solving the case study"
   ]
  },
  {
   "cell_type": "code",
   "execution_count": 64,
   "id": "1e48c176",
   "metadata": {},
   "outputs": [],
   "source": [
    "import pandas as pd\n",
    "import numpy as np"
   ]
  },
  {
   "cell_type": "code",
   "execution_count": 3,
   "id": "e3b1c80b",
   "metadata": {},
   "outputs": [],
   "source": [
    "#importing the required datasets"
   ]
  },
  {
   "cell_type": "code",
   "execution_count": 83,
   "id": "c0dce0c9",
   "metadata": {},
   "outputs": [],
   "source": [
    "customer = pd.read_csv(\"Customer.csv\")\n",
    "prod_info = pd.read_csv(\"prod_cat_info.csv\")\n",
    "transactions = pd.read_csv(\"Transactions.csv\")"
   ]
  },
  {
   "cell_type": "raw",
   "id": "fd5e3363",
   "metadata": {},
   "source": [
    "Q1"
   ]
  },
  {
   "cell_type": "code",
   "execution_count": 84,
   "id": "05f0a07f",
   "metadata": {},
   "outputs": [],
   "source": [
    "d1 = pd.merge(left=transactions,right=customer,left_on='cust_id',right_on=\"customer_Id\",how=\"left\")"
   ]
  },
  {
   "cell_type": "code",
   "execution_count": 85,
   "id": "cf6b18c9",
   "metadata": {},
   "outputs": [],
   "source": [
    "Customer_Final = pd.merge(left=d1,right= prod_info, left_on=['prod_subcat_code','prod_cat_code'],right_on=['prod_sub_cat_code','prod_cat_code'],how='left')"
   ]
  },
  {
   "cell_type": "code",
   "execution_count": 86,
   "id": "cd03d4b6",
   "metadata": {},
   "outputs": [
    {
     "data": {
      "text/plain": [
       "(23053, 17)"
      ]
     },
     "execution_count": 86,
     "metadata": {},
     "output_type": "execute_result"
    }
   ],
   "source": [
    "Customer_Final.shape"
   ]
  },
  {
   "cell_type": "raw",
   "id": "8c7c8570",
   "metadata": {},
   "source": [
    "Question 2a)"
   ]
  },
  {
   "cell_type": "code",
   "execution_count": 69,
   "id": "e6e2d21e",
   "metadata": {},
   "outputs": [
    {
     "data": {
      "text/plain": [
       "Index(['transaction_id', 'cust_id', 'tran_date', 'prod_subcat_code',\n",
       "       'prod_cat_code', 'Qty', 'Rate', 'Tax', 'total_amt', 'Store_type',\n",
       "       'customer_Id', 'DOB', 'Gender', 'city_code', 'prod_cat',\n",
       "       'prod_sub_cat_code', 'prod_subcat'],\n",
       "      dtype='object')"
      ]
     },
     "execution_count": 69,
     "metadata": {},
     "output_type": "execute_result"
    }
   ],
   "source": [
    "Customer_Final.columns # Columns names of the data"
   ]
  },
  {
   "cell_type": "code",
   "execution_count": 70,
   "id": "1777eedf",
   "metadata": {},
   "outputs": [
    {
     "data": {
      "text/plain": [
       "transaction_id         int64\n",
       "cust_id                int64\n",
       "tran_date             object\n",
       "prod_subcat_code       int64\n",
       "prod_cat_code          int64\n",
       "Qty                    int64\n",
       "Rate                   int64\n",
       "Tax                  float64\n",
       "total_amt            float64\n",
       "Store_type            object\n",
       "customer_Id            int64\n",
       "DOB                   object\n",
       "Gender                object\n",
       "city_code            float64\n",
       "prod_cat              object\n",
       "prod_sub_cat_code      int64\n",
       "prod_subcat           object\n",
       "dtype: object"
      ]
     },
     "execution_count": 70,
     "metadata": {},
     "output_type": "execute_result"
    }
   ],
   "source": [
    "Customer_Final.dtypes # datatypes of the columns"
   ]
  },
  {
   "cell_type": "raw",
   "id": "a8cb0822",
   "metadata": {},
   "source": [
    "Question 2b"
   ]
  },
  {
   "cell_type": "code",
   "execution_count": 12,
   "id": "da3f92e8",
   "metadata": {},
   "outputs": [
    {
     "data": {
      "text/html": [
       "<div>\n",
       "<style scoped>\n",
       "    .dataframe tbody tr th:only-of-type {\n",
       "        vertical-align: middle;\n",
       "    }\n",
       "\n",
       "    .dataframe tbody tr th {\n",
       "        vertical-align: top;\n",
       "    }\n",
       "\n",
       "    .dataframe thead th {\n",
       "        text-align: right;\n",
       "    }\n",
       "</style>\n",
       "<table border=\"1\" class=\"dataframe\">\n",
       "  <thead>\n",
       "    <tr style=\"text-align: right;\">\n",
       "      <th></th>\n",
       "      <th>transaction_id</th>\n",
       "      <th>cust_id</th>\n",
       "      <th>tran_date</th>\n",
       "      <th>prod_subcat_code</th>\n",
       "      <th>prod_cat_code</th>\n",
       "      <th>Qty</th>\n",
       "      <th>Rate</th>\n",
       "      <th>Tax</th>\n",
       "      <th>total_amt</th>\n",
       "      <th>Store_type</th>\n",
       "      <th>customer_Id</th>\n",
       "      <th>DOB</th>\n",
       "      <th>Gender</th>\n",
       "      <th>city_code</th>\n",
       "      <th>prod_cat</th>\n",
       "      <th>prod_sub_cat_code</th>\n",
       "      <th>prod_subcat</th>\n",
       "    </tr>\n",
       "  </thead>\n",
       "  <tbody>\n",
       "    <tr>\n",
       "      <th>0</th>\n",
       "      <td>80712190438</td>\n",
       "      <td>270351</td>\n",
       "      <td>28-02-2014</td>\n",
       "      <td>1</td>\n",
       "      <td>1</td>\n",
       "      <td>-5</td>\n",
       "      <td>-772</td>\n",
       "      <td>405.300</td>\n",
       "      <td>-4265.300</td>\n",
       "      <td>e-Shop</td>\n",
       "      <td>270351</td>\n",
       "      <td>26-09-1981</td>\n",
       "      <td>M</td>\n",
       "      <td>5.0</td>\n",
       "      <td>Clothing</td>\n",
       "      <td>1</td>\n",
       "      <td>Women</td>\n",
       "    </tr>\n",
       "    <tr>\n",
       "      <th>1</th>\n",
       "      <td>29258453508</td>\n",
       "      <td>270384</td>\n",
       "      <td>27-02-2014</td>\n",
       "      <td>5</td>\n",
       "      <td>3</td>\n",
       "      <td>-5</td>\n",
       "      <td>-1497</td>\n",
       "      <td>785.925</td>\n",
       "      <td>-8270.925</td>\n",
       "      <td>e-Shop</td>\n",
       "      <td>270384</td>\n",
       "      <td>11-05-1973</td>\n",
       "      <td>F</td>\n",
       "      <td>8.0</td>\n",
       "      <td>Electronics</td>\n",
       "      <td>5</td>\n",
       "      <td>Computers</td>\n",
       "    </tr>\n",
       "    <tr>\n",
       "      <th>2</th>\n",
       "      <td>51750724947</td>\n",
       "      <td>273420</td>\n",
       "      <td>24-02-2014</td>\n",
       "      <td>6</td>\n",
       "      <td>5</td>\n",
       "      <td>-2</td>\n",
       "      <td>-791</td>\n",
       "      <td>166.110</td>\n",
       "      <td>-1748.110</td>\n",
       "      <td>TeleShop</td>\n",
       "      <td>273420</td>\n",
       "      <td>27-07-1992</td>\n",
       "      <td>M</td>\n",
       "      <td>8.0</td>\n",
       "      <td>Books</td>\n",
       "      <td>6</td>\n",
       "      <td>DIY</td>\n",
       "    </tr>\n",
       "    <tr>\n",
       "      <th>3</th>\n",
       "      <td>93274880719</td>\n",
       "      <td>271509</td>\n",
       "      <td>24-02-2014</td>\n",
       "      <td>11</td>\n",
       "      <td>6</td>\n",
       "      <td>-3</td>\n",
       "      <td>-1363</td>\n",
       "      <td>429.345</td>\n",
       "      <td>-4518.345</td>\n",
       "      <td>e-Shop</td>\n",
       "      <td>271509</td>\n",
       "      <td>08-06-1981</td>\n",
       "      <td>M</td>\n",
       "      <td>3.0</td>\n",
       "      <td>Home and kitchen</td>\n",
       "      <td>11</td>\n",
       "      <td>Bath</td>\n",
       "    </tr>\n",
       "    <tr>\n",
       "      <th>4</th>\n",
       "      <td>51750724947</td>\n",
       "      <td>273420</td>\n",
       "      <td>23-02-2014</td>\n",
       "      <td>6</td>\n",
       "      <td>5</td>\n",
       "      <td>-2</td>\n",
       "      <td>-791</td>\n",
       "      <td>166.110</td>\n",
       "      <td>-1748.110</td>\n",
       "      <td>TeleShop</td>\n",
       "      <td>273420</td>\n",
       "      <td>27-07-1992</td>\n",
       "      <td>M</td>\n",
       "      <td>8.0</td>\n",
       "      <td>Books</td>\n",
       "      <td>6</td>\n",
       "      <td>DIY</td>\n",
       "    </tr>\n",
       "    <tr>\n",
       "      <th>5</th>\n",
       "      <td>97439039119</td>\n",
       "      <td>272357</td>\n",
       "      <td>23-02-2014</td>\n",
       "      <td>8</td>\n",
       "      <td>3</td>\n",
       "      <td>-2</td>\n",
       "      <td>-824</td>\n",
       "      <td>173.040</td>\n",
       "      <td>-1821.040</td>\n",
       "      <td>TeleShop</td>\n",
       "      <td>272357</td>\n",
       "      <td>09-10-1982</td>\n",
       "      <td>F</td>\n",
       "      <td>6.0</td>\n",
       "      <td>Electronics</td>\n",
       "      <td>8</td>\n",
       "      <td>Personal Appliances</td>\n",
       "    </tr>\n",
       "    <tr>\n",
       "      <th>6</th>\n",
       "      <td>45649838090</td>\n",
       "      <td>273667</td>\n",
       "      <td>22-02-2014</td>\n",
       "      <td>11</td>\n",
       "      <td>6</td>\n",
       "      <td>-1</td>\n",
       "      <td>-1450</td>\n",
       "      <td>152.250</td>\n",
       "      <td>-1602.250</td>\n",
       "      <td>e-Shop</td>\n",
       "      <td>273667</td>\n",
       "      <td>29-05-1981</td>\n",
       "      <td>M</td>\n",
       "      <td>9.0</td>\n",
       "      <td>Home and kitchen</td>\n",
       "      <td>11</td>\n",
       "      <td>Bath</td>\n",
       "    </tr>\n",
       "    <tr>\n",
       "      <th>7</th>\n",
       "      <td>22643667930</td>\n",
       "      <td>271489</td>\n",
       "      <td>22-02-2014</td>\n",
       "      <td>12</td>\n",
       "      <td>6</td>\n",
       "      <td>-1</td>\n",
       "      <td>-1225</td>\n",
       "      <td>128.625</td>\n",
       "      <td>-1353.625</td>\n",
       "      <td>TeleShop</td>\n",
       "      <td>271489</td>\n",
       "      <td>21-04-1971</td>\n",
       "      <td>M</td>\n",
       "      <td>9.0</td>\n",
       "      <td>Home and kitchen</td>\n",
       "      <td>12</td>\n",
       "      <td>Tools</td>\n",
       "    </tr>\n",
       "    <tr>\n",
       "      <th>8</th>\n",
       "      <td>79792372943</td>\n",
       "      <td>275108</td>\n",
       "      <td>22-02-2014</td>\n",
       "      <td>3</td>\n",
       "      <td>1</td>\n",
       "      <td>-3</td>\n",
       "      <td>-908</td>\n",
       "      <td>286.020</td>\n",
       "      <td>-3010.020</td>\n",
       "      <td>MBR</td>\n",
       "      <td>275108</td>\n",
       "      <td>04-11-1971</td>\n",
       "      <td>F</td>\n",
       "      <td>8.0</td>\n",
       "      <td>Clothing</td>\n",
       "      <td>3</td>\n",
       "      <td>Kids</td>\n",
       "    </tr>\n",
       "    <tr>\n",
       "      <th>9</th>\n",
       "      <td>50076728598</td>\n",
       "      <td>269014</td>\n",
       "      <td>21-02-2014</td>\n",
       "      <td>8</td>\n",
       "      <td>3</td>\n",
       "      <td>-4</td>\n",
       "      <td>-581</td>\n",
       "      <td>244.020</td>\n",
       "      <td>-2568.020</td>\n",
       "      <td>e-Shop</td>\n",
       "      <td>269014</td>\n",
       "      <td>27-11-1979</td>\n",
       "      <td>F</td>\n",
       "      <td>3.0</td>\n",
       "      <td>Electronics</td>\n",
       "      <td>8</td>\n",
       "      <td>Personal Appliances</td>\n",
       "    </tr>\n",
       "  </tbody>\n",
       "</table>\n",
       "</div>"
      ],
      "text/plain": [
       "   transaction_id  cust_id   tran_date  prod_subcat_code  prod_cat_code  Qty  \\\n",
       "0     80712190438   270351  28-02-2014                 1              1   -5   \n",
       "1     29258453508   270384  27-02-2014                 5              3   -5   \n",
       "2     51750724947   273420  24-02-2014                 6              5   -2   \n",
       "3     93274880719   271509  24-02-2014                11              6   -3   \n",
       "4     51750724947   273420  23-02-2014                 6              5   -2   \n",
       "5     97439039119   272357  23-02-2014                 8              3   -2   \n",
       "6     45649838090   273667  22-02-2014                11              6   -1   \n",
       "7     22643667930   271489  22-02-2014                12              6   -1   \n",
       "8     79792372943   275108  22-02-2014                 3              1   -3   \n",
       "9     50076728598   269014  21-02-2014                 8              3   -4   \n",
       "\n",
       "   Rate      Tax  total_amt Store_type  customer_Id         DOB Gender  \\\n",
       "0  -772  405.300  -4265.300     e-Shop       270351  26-09-1981      M   \n",
       "1 -1497  785.925  -8270.925     e-Shop       270384  11-05-1973      F   \n",
       "2  -791  166.110  -1748.110   TeleShop       273420  27-07-1992      M   \n",
       "3 -1363  429.345  -4518.345     e-Shop       271509  08-06-1981      M   \n",
       "4  -791  166.110  -1748.110   TeleShop       273420  27-07-1992      M   \n",
       "5  -824  173.040  -1821.040   TeleShop       272357  09-10-1982      F   \n",
       "6 -1450  152.250  -1602.250     e-Shop       273667  29-05-1981      M   \n",
       "7 -1225  128.625  -1353.625   TeleShop       271489  21-04-1971      M   \n",
       "8  -908  286.020  -3010.020        MBR       275108  04-11-1971      F   \n",
       "9  -581  244.020  -2568.020     e-Shop       269014  27-11-1979      F   \n",
       "\n",
       "   city_code          prod_cat  prod_sub_cat_code          prod_subcat  \n",
       "0        5.0          Clothing                  1                Women  \n",
       "1        8.0       Electronics                  5            Computers  \n",
       "2        8.0             Books                  6                  DIY  \n",
       "3        3.0  Home and kitchen                 11                 Bath  \n",
       "4        8.0             Books                  6                  DIY  \n",
       "5        6.0       Electronics                  8  Personal Appliances  \n",
       "6        9.0  Home and kitchen                 11                 Bath  \n",
       "7        9.0  Home and kitchen                 12                Tools  \n",
       "8        8.0          Clothing                  3                 Kids  \n",
       "9        3.0       Electronics                  8  Personal Appliances  "
      ]
     },
     "execution_count": 12,
     "metadata": {},
     "output_type": "execute_result"
    }
   ],
   "source": [
    "Customer_Final.head(10) # Top 10 observations"
   ]
  },
  {
   "cell_type": "code",
   "execution_count": 13,
   "id": "611e2f16",
   "metadata": {},
   "outputs": [
    {
     "data": {
      "text/html": [
       "<div>\n",
       "<style scoped>\n",
       "    .dataframe tbody tr th:only-of-type {\n",
       "        vertical-align: middle;\n",
       "    }\n",
       "\n",
       "    .dataframe tbody tr th {\n",
       "        vertical-align: top;\n",
       "    }\n",
       "\n",
       "    .dataframe thead th {\n",
       "        text-align: right;\n",
       "    }\n",
       "</style>\n",
       "<table border=\"1\" class=\"dataframe\">\n",
       "  <thead>\n",
       "    <tr style=\"text-align: right;\">\n",
       "      <th></th>\n",
       "      <th>transaction_id</th>\n",
       "      <th>cust_id</th>\n",
       "      <th>tran_date</th>\n",
       "      <th>prod_subcat_code</th>\n",
       "      <th>prod_cat_code</th>\n",
       "      <th>Qty</th>\n",
       "      <th>Rate</th>\n",
       "      <th>Tax</th>\n",
       "      <th>total_amt</th>\n",
       "      <th>Store_type</th>\n",
       "      <th>customer_Id</th>\n",
       "      <th>DOB</th>\n",
       "      <th>Gender</th>\n",
       "      <th>city_code</th>\n",
       "      <th>prod_cat</th>\n",
       "      <th>prod_sub_cat_code</th>\n",
       "      <th>prod_subcat</th>\n",
       "    </tr>\n",
       "  </thead>\n",
       "  <tbody>\n",
       "    <tr>\n",
       "      <th>23043</th>\n",
       "      <td>49882891062</td>\n",
       "      <td>271982</td>\n",
       "      <td>25-01-2011</td>\n",
       "      <td>10</td>\n",
       "      <td>5</td>\n",
       "      <td>4</td>\n",
       "      <td>1330</td>\n",
       "      <td>558.600</td>\n",
       "      <td>5878.600</td>\n",
       "      <td>e-Shop</td>\n",
       "      <td>271982</td>\n",
       "      <td>10-08-1976</td>\n",
       "      <td>M</td>\n",
       "      <td>8.0</td>\n",
       "      <td>Books</td>\n",
       "      <td>10</td>\n",
       "      <td>Non-Fiction</td>\n",
       "    </tr>\n",
       "    <tr>\n",
       "      <th>23044</th>\n",
       "      <td>14787475597</td>\n",
       "      <td>273982</td>\n",
       "      <td>25-01-2011</td>\n",
       "      <td>4</td>\n",
       "      <td>3</td>\n",
       "      <td>5</td>\n",
       "      <td>969</td>\n",
       "      <td>508.725</td>\n",
       "      <td>5353.725</td>\n",
       "      <td>e-Shop</td>\n",
       "      <td>273982</td>\n",
       "      <td>12-10-1991</td>\n",
       "      <td>M</td>\n",
       "      <td>4.0</td>\n",
       "      <td>Electronics</td>\n",
       "      <td>4</td>\n",
       "      <td>Mobiles</td>\n",
       "    </tr>\n",
       "    <tr>\n",
       "      <th>23045</th>\n",
       "      <td>50691119572</td>\n",
       "      <td>273031</td>\n",
       "      <td>25-01-2011</td>\n",
       "      <td>6</td>\n",
       "      <td>5</td>\n",
       "      <td>1</td>\n",
       "      <td>1148</td>\n",
       "      <td>120.540</td>\n",
       "      <td>1268.540</td>\n",
       "      <td>TeleShop</td>\n",
       "      <td>273031</td>\n",
       "      <td>17-01-1980</td>\n",
       "      <td>F</td>\n",
       "      <td>8.0</td>\n",
       "      <td>Books</td>\n",
       "      <td>6</td>\n",
       "      <td>DIY</td>\n",
       "    </tr>\n",
       "    <tr>\n",
       "      <th>23046</th>\n",
       "      <td>40893803228</td>\n",
       "      <td>272049</td>\n",
       "      <td>25-01-2011</td>\n",
       "      <td>11</td>\n",
       "      <td>6</td>\n",
       "      <td>3</td>\n",
       "      <td>1077</td>\n",
       "      <td>339.255</td>\n",
       "      <td>3570.255</td>\n",
       "      <td>e-Shop</td>\n",
       "      <td>272049</td>\n",
       "      <td>28-06-1975</td>\n",
       "      <td>F</td>\n",
       "      <td>6.0</td>\n",
       "      <td>Home and kitchen</td>\n",
       "      <td>11</td>\n",
       "      <td>Bath</td>\n",
       "    </tr>\n",
       "    <tr>\n",
       "      <th>23047</th>\n",
       "      <td>30856003613</td>\n",
       "      <td>266866</td>\n",
       "      <td>25-01-2011</td>\n",
       "      <td>4</td>\n",
       "      <td>2</td>\n",
       "      <td>2</td>\n",
       "      <td>444</td>\n",
       "      <td>93.240</td>\n",
       "      <td>981.240</td>\n",
       "      <td>TeleShop</td>\n",
       "      <td>266866</td>\n",
       "      <td>18-04-1974</td>\n",
       "      <td>M</td>\n",
       "      <td>4.0</td>\n",
       "      <td>Footwear</td>\n",
       "      <td>4</td>\n",
       "      <td>Kids</td>\n",
       "    </tr>\n",
       "    <tr>\n",
       "      <th>23048</th>\n",
       "      <td>94340757522</td>\n",
       "      <td>274550</td>\n",
       "      <td>25-01-2011</td>\n",
       "      <td>12</td>\n",
       "      <td>5</td>\n",
       "      <td>1</td>\n",
       "      <td>1264</td>\n",
       "      <td>132.720</td>\n",
       "      <td>1396.720</td>\n",
       "      <td>e-Shop</td>\n",
       "      <td>274550</td>\n",
       "      <td>21-02-1972</td>\n",
       "      <td>M</td>\n",
       "      <td>7.0</td>\n",
       "      <td>Books</td>\n",
       "      <td>12</td>\n",
       "      <td>Academic</td>\n",
       "    </tr>\n",
       "    <tr>\n",
       "      <th>23049</th>\n",
       "      <td>89780862956</td>\n",
       "      <td>270022</td>\n",
       "      <td>25-01-2011</td>\n",
       "      <td>4</td>\n",
       "      <td>1</td>\n",
       "      <td>1</td>\n",
       "      <td>677</td>\n",
       "      <td>71.085</td>\n",
       "      <td>748.085</td>\n",
       "      <td>e-Shop</td>\n",
       "      <td>270022</td>\n",
       "      <td>27-04-1984</td>\n",
       "      <td>M</td>\n",
       "      <td>9.0</td>\n",
       "      <td>Clothing</td>\n",
       "      <td>4</td>\n",
       "      <td>Mens</td>\n",
       "    </tr>\n",
       "    <tr>\n",
       "      <th>23050</th>\n",
       "      <td>85115299378</td>\n",
       "      <td>271020</td>\n",
       "      <td>25-01-2011</td>\n",
       "      <td>2</td>\n",
       "      <td>6</td>\n",
       "      <td>4</td>\n",
       "      <td>1052</td>\n",
       "      <td>441.840</td>\n",
       "      <td>4649.840</td>\n",
       "      <td>MBR</td>\n",
       "      <td>271020</td>\n",
       "      <td>20-06-1976</td>\n",
       "      <td>M</td>\n",
       "      <td>8.0</td>\n",
       "      <td>Home and kitchen</td>\n",
       "      <td>2</td>\n",
       "      <td>Furnishing</td>\n",
       "    </tr>\n",
       "    <tr>\n",
       "      <th>23051</th>\n",
       "      <td>72870271171</td>\n",
       "      <td>270911</td>\n",
       "      <td>25-01-2011</td>\n",
       "      <td>11</td>\n",
       "      <td>5</td>\n",
       "      <td>3</td>\n",
       "      <td>1142</td>\n",
       "      <td>359.730</td>\n",
       "      <td>3785.730</td>\n",
       "      <td>TeleShop</td>\n",
       "      <td>270911</td>\n",
       "      <td>22-05-1970</td>\n",
       "      <td>M</td>\n",
       "      <td>2.0</td>\n",
       "      <td>Books</td>\n",
       "      <td>11</td>\n",
       "      <td>Children</td>\n",
       "    </tr>\n",
       "    <tr>\n",
       "      <th>23052</th>\n",
       "      <td>77960931771</td>\n",
       "      <td>271961</td>\n",
       "      <td>25-01-2011</td>\n",
       "      <td>11</td>\n",
       "      <td>5</td>\n",
       "      <td>1</td>\n",
       "      <td>447</td>\n",
       "      <td>46.935</td>\n",
       "      <td>493.935</td>\n",
       "      <td>TeleShop</td>\n",
       "      <td>271961</td>\n",
       "      <td>15-01-1982</td>\n",
       "      <td>M</td>\n",
       "      <td>1.0</td>\n",
       "      <td>Books</td>\n",
       "      <td>11</td>\n",
       "      <td>Children</td>\n",
       "    </tr>\n",
       "  </tbody>\n",
       "</table>\n",
       "</div>"
      ],
      "text/plain": [
       "       transaction_id  cust_id   tran_date  prod_subcat_code  prod_cat_code  \\\n",
       "23043     49882891062   271982  25-01-2011                10              5   \n",
       "23044     14787475597   273982  25-01-2011                 4              3   \n",
       "23045     50691119572   273031  25-01-2011                 6              5   \n",
       "23046     40893803228   272049  25-01-2011                11              6   \n",
       "23047     30856003613   266866  25-01-2011                 4              2   \n",
       "23048     94340757522   274550  25-01-2011                12              5   \n",
       "23049     89780862956   270022  25-01-2011                 4              1   \n",
       "23050     85115299378   271020  25-01-2011                 2              6   \n",
       "23051     72870271171   270911  25-01-2011                11              5   \n",
       "23052     77960931771   271961  25-01-2011                11              5   \n",
       "\n",
       "       Qty  Rate      Tax  total_amt Store_type  customer_Id         DOB  \\\n",
       "23043    4  1330  558.600   5878.600     e-Shop       271982  10-08-1976   \n",
       "23044    5   969  508.725   5353.725     e-Shop       273982  12-10-1991   \n",
       "23045    1  1148  120.540   1268.540   TeleShop       273031  17-01-1980   \n",
       "23046    3  1077  339.255   3570.255     e-Shop       272049  28-06-1975   \n",
       "23047    2   444   93.240    981.240   TeleShop       266866  18-04-1974   \n",
       "23048    1  1264  132.720   1396.720     e-Shop       274550  21-02-1972   \n",
       "23049    1   677   71.085    748.085     e-Shop       270022  27-04-1984   \n",
       "23050    4  1052  441.840   4649.840        MBR       271020  20-06-1976   \n",
       "23051    3  1142  359.730   3785.730   TeleShop       270911  22-05-1970   \n",
       "23052    1   447   46.935    493.935   TeleShop       271961  15-01-1982   \n",
       "\n",
       "      Gender  city_code          prod_cat  prod_sub_cat_code  prod_subcat  \n",
       "23043      M        8.0             Books                 10  Non-Fiction  \n",
       "23044      M        4.0       Electronics                  4      Mobiles  \n",
       "23045      F        8.0             Books                  6          DIY  \n",
       "23046      F        6.0  Home and kitchen                 11         Bath  \n",
       "23047      M        4.0          Footwear                  4         Kids  \n",
       "23048      M        7.0             Books                 12     Academic  \n",
       "23049      M        9.0          Clothing                  4         Mens  \n",
       "23050      M        8.0  Home and kitchen                  2   Furnishing  \n",
       "23051      M        2.0             Books                 11     Children  \n",
       "23052      M        1.0             Books                 11     Children  "
      ]
     },
     "execution_count": 13,
     "metadata": {},
     "output_type": "execute_result"
    }
   ],
   "source": [
    "Customer_Final.tail(10) # bottom 10 observations"
   ]
  },
  {
   "cell_type": "raw",
   "id": "c5e06996",
   "metadata": {},
   "source": [
    "Question 2c"
   ]
  },
  {
   "cell_type": "code",
   "execution_count": 20,
   "id": "4d52ebd8",
   "metadata": {},
   "outputs": [
    {
     "data": {
      "text/html": [
       "<div>\n",
       "<style scoped>\n",
       "    .dataframe tbody tr th:only-of-type {\n",
       "        vertical-align: middle;\n",
       "    }\n",
       "\n",
       "    .dataframe tbody tr th {\n",
       "        vertical-align: top;\n",
       "    }\n",
       "\n",
       "    .dataframe thead th {\n",
       "        text-align: right;\n",
       "    }\n",
       "</style>\n",
       "<table border=\"1\" class=\"dataframe\">\n",
       "  <thead>\n",
       "    <tr style=\"text-align: right;\">\n",
       "      <th></th>\n",
       "      <th>min</th>\n",
       "      <th>25%</th>\n",
       "      <th>50%</th>\n",
       "      <th>75%</th>\n",
       "      <th>max</th>\n",
       "    </tr>\n",
       "  </thead>\n",
       "  <tbody>\n",
       "    <tr>\n",
       "      <th>Tax</th>\n",
       "      <td>7.350</td>\n",
       "      <td>98.28</td>\n",
       "      <td>199.08</td>\n",
       "      <td>365.715</td>\n",
       "      <td>787.5</td>\n",
       "    </tr>\n",
       "    <tr>\n",
       "      <th>total_amt</th>\n",
       "      <td>-8270.925</td>\n",
       "      <td>762.45</td>\n",
       "      <td>1754.74</td>\n",
       "      <td>3569.150</td>\n",
       "      <td>8287.5</td>\n",
       "    </tr>\n",
       "    <tr>\n",
       "      <th>city_code</th>\n",
       "      <td>1.000</td>\n",
       "      <td>3.00</td>\n",
       "      <td>5.00</td>\n",
       "      <td>8.000</td>\n",
       "      <td>10.0</td>\n",
       "    </tr>\n",
       "  </tbody>\n",
       "</table>\n",
       "</div>"
      ],
      "text/plain": [
       "                min     25%      50%       75%     max\n",
       "Tax           7.350   98.28   199.08   365.715   787.5\n",
       "total_amt -8270.925  762.45  1754.74  3569.150  8287.5\n",
       "city_code     1.000    3.00     5.00     8.000    10.0"
      ]
     },
     "execution_count": 20,
     "metadata": {},
     "output_type": "execute_result"
    }
   ],
   "source": [
    "Customer_Final.select_dtypes(include='float').describe().T.loc[:,[\"min\", \"25%\", \"50%\", \"75%\",\"max\"]]"
   ]
  },
  {
   "cell_type": "raw",
   "id": "bf7a939a",
   "metadata": {},
   "source": [
    "2d"
   ]
  },
  {
   "cell_type": "code",
   "execution_count": 29,
   "id": "d107a13c",
   "metadata": {},
   "outputs": [
    {
     "name": "stdout",
     "output_type": "stream",
     "text": [
      "13-07-2011    35\n",
      "21-12-2013    33\n",
      "23-10-2011    33\n",
      "22-11-2011    33\n",
      "25-09-2011    33\n",
      "              ..\n",
      "23-02-2014     2\n",
      "24-02-2014     2\n",
      "27-02-2014     1\n",
      "21-02-2014     1\n",
      "28-02-2014     1\n",
      "Name: tran_date, Length: 1129, dtype: int64\n",
      "e-Shop            9311\n",
      "MBR               4661\n",
      "Flagship store    4577\n",
      "TeleShop          4504\n",
      "Name: Store_type, dtype: int64\n",
      "27-12-1988    32\n",
      "17-09-1982    32\n",
      "25-02-1974    27\n",
      "20-03-1972    25\n",
      "18-11-1991    24\n",
      "              ..\n",
      "29-01-1976     1\n",
      "01-05-1980     1\n",
      "23-06-1988     1\n",
      "25-06-1985     1\n",
      "10-06-1972     1\n",
      "Name: DOB, Length: 3987, dtype: int64\n",
      "M    11811\n",
      "F    11233\n",
      "Name: Gender, dtype: int64\n",
      "Books               6069\n",
      "Electronics         4898\n",
      "Home and kitchen    4129\n",
      "Footwear            2999\n",
      "Clothing            2960\n",
      "Bags                1998\n",
      "Name: prod_cat, dtype: int64\n",
      "Women                  3048\n",
      "Mens                   2912\n",
      "Kids                   1997\n",
      "Tools                  1062\n",
      "Fiction                1043\n",
      "Kitchen                1037\n",
      "Children               1035\n",
      "Mobiles                1031\n",
      "Comics                 1031\n",
      "Bath                   1023\n",
      "Furnishing             1007\n",
      "Non-Fiction            1004\n",
      "DIY                     989\n",
      "Cameras                 985\n",
      "Personal Appliances     972\n",
      "Academic                967\n",
      "Computers               958\n",
      "Audio and video         952\n",
      "Name: prod_subcat, dtype: int64\n"
     ]
    }
   ],
   "source": [
    "for i in Customer_Final.select_dtypes(include='object').columns:\n",
    "            print(Customer_Final[i].value_counts())"
   ]
  },
  {
   "cell_type": "raw",
   "id": "76f00255",
   "metadata": {},
   "source": [
    "Q3)"
   ]
  },
  {
   "cell_type": "code",
   "execution_count": 31,
   "id": "082103b3",
   "metadata": {},
   "outputs": [],
   "source": [
    "import matplotlib.pyplot as plt\n",
    "import seaborn as sns"
   ]
  },
  {
   "cell_type": "code",
   "execution_count": 34,
   "id": "af0fc66e",
   "metadata": {},
   "outputs": [
    {
     "data": {
      "image/png": "[encoded data removed]",
      "text/plain": [
       "<Figure size 640x480 with 1 Axes>"
      ]
     },
     "metadata": {},
     "output_type": "display_data"
    },
    {
     "data": {
      "image/png": "[encoded data removed]",
      "text/plain": [
       "<Figure size 640x480 with 1 Axes>"
      ]
     },
     "metadata": {},
     "output_type": "display_data"
    },
    {
     "data": {
      "image/png": "[encoded data removed]",
      "text/plain": [
       "<Figure size 640x480 with 1 Axes>"
      ]
     },
     "metadata": {},
     "output_type": "display_data"
    }
   ],
   "source": [
    "d1 = Customer_Final.select_dtypes(include='float')\n",
    "for i in d1.columns:\n",
    "    plt.hist(d1[i],bins=10) \n",
    "    plt.xlabel(i)\n",
    "    plt.title(\"The histogram of \"+str(i))\n",
    "    plt.show()"
   ]
  },
  {
   "cell_type": "code",
   "execution_count": 35,
   "id": "90c4c103",
   "metadata": {},
   "outputs": [
    {
     "data": {
      "image/png": "[encoded data removed]",
      "text/plain": [
       "<Figure size 640x480 with 1 Axes>"
      ]
     },
     "metadata": {},
     "output_type": "display_data"
    },
    {
     "data": {
      "image/png": "[encoded data removed]",
      "text/plain": [
       "<Figure size 640x480 with 1 Axes>"
      ]
     },
     "metadata": {},
     "output_type": "display_data"
    },
    {
     "data": {
      "image/png": "[encoded data removed]",
      "text/plain": [
       "<Figure size 640x480 with 1 Axes>"
      ]
     },
     "metadata": {},
     "output_type": "display_data"
    },
    {
     "data": {
      "image/png": "[encoded data removed]",
      "text/plain": [
       "<Figure size 640x480 with 1 Axes>"
      ]
     },
     "metadata": {},
     "output_type": "display_data"
    },
    {
     "data": {
      "image/png": "[encoded data removed]",
      "text/plain": [
       "<Figure size 640x480 with 1 Axes>"
      ]
     },
     "metadata": {},
     "output_type": "display_data"
    },
    {
     "data": {
      "image/png": "[encoded data removed]",
      "text/plain": [
       "<Figure size 640x480 with 1 Axes>"
      ]
     },
     "metadata": {},
     "output_type": "display_data"
    }
   ],
   "source": [
    "for i in Customer_Final.select_dtypes(include='object').columns:\n",
    "    sns.countplot(x=i,data=Customer_Final)\n",
    "    plt.show()"
   ]
  },
  {
   "cell_type": "raw",
   "id": "68ee9172",
   "metadata": {},
   "source": [
    "Q4 a)"
   ]
  },
  {
   "cell_type": "code",
   "execution_count": 87,
   "id": "3ca3dd36",
   "metadata": {},
   "outputs": [],
   "source": [
    "def datetime(x):\n",
    "    x=x.replace(\"/\",\"-\")\n",
    "    x = pd.to_datetime(x,format='%d-%m-%Y')\n",
    "    return x"
   ]
  },
  {
   "cell_type": "code",
   "execution_count": 88,
   "id": "7e9c62de",
   "metadata": {},
   "outputs": [],
   "source": [
    "Customer_Final['tran_date'] = Customer_Final['tran_date'].apply(lambda x: datetime(x))"
   ]
  },
  {
   "cell_type": "code",
   "execution_count": 119,
   "id": "1c6f2563",
   "metadata": {},
   "outputs": [
    {
     "name": "stdout",
     "output_type": "stream",
     "text": [
      "The time range of the transaction date variable in days is: 1130\n"
     ]
    }
   ],
   "source": [
    "print(\"The time range of the transaction date variable in days is: \" + str((Customer_Final['tran_date'].max()-Customer_Final['tran_date'].min()).days))"
   ]
  },
  {
   "cell_type": "raw",
   "id": "ca077286",
   "metadata": {},
   "source": [
    "Q4 b)"
   ]
  },
  {
   "cell_type": "code",
   "execution_count": 120,
   "id": "cf8b547e",
   "metadata": {},
   "outputs": [
    {
     "name": "stdout",
     "output_type": "stream",
     "text": [
      "Count of transactions where total amount is negative is: 2059\n"
     ]
    }
   ],
   "source": [
    "print(\"Count of transactions where total amount is negative is: \"+ str(Customer_Final.loc[Customer_Final['total_amt']<0,'transaction_id'].nunique()))"
   ]
  },
  {
   "cell_type": "raw",
   "id": "280e51cb",
   "metadata": {},
   "source": [
    "Q5)"
   ]
  },
  {
   "cell_type": "code",
   "execution_count": 99,
   "id": "add39791",
   "metadata": {},
   "outputs": [
    {
     "data": {
      "text/html": [
       "<div>\n",
       "<style scoped>\n",
       "    .dataframe tbody tr th:only-of-type {\n",
       "        vertical-align: middle;\n",
       "    }\n",
       "\n",
       "    .dataframe tbody tr th {\n",
       "        vertical-align: top;\n",
       "    }\n",
       "\n",
       "    .dataframe thead th {\n",
       "        text-align: right;\n",
       "    }\n",
       "</style>\n",
       "<table border=\"1\" class=\"dataframe\">\n",
       "  <thead>\n",
       "    <tr style=\"text-align: right;\">\n",
       "      <th></th>\n",
       "      <th>Gender</th>\n",
       "      <th>prod_cat</th>\n",
       "      <th>Qty</th>\n",
       "    </tr>\n",
       "  </thead>\n",
       "  <tbody>\n",
       "    <tr>\n",
       "      <th>7</th>\n",
       "      <td>M</td>\n",
       "      <td>Books</td>\n",
       "      <td>7587</td>\n",
       "    </tr>\n",
       "    <tr>\n",
       "      <th>9</th>\n",
       "      <td>M</td>\n",
       "      <td>Electronics</td>\n",
       "      <td>6476</td>\n",
       "    </tr>\n",
       "    <tr>\n",
       "      <th>11</th>\n",
       "      <td>M</td>\n",
       "      <td>Home and kitchen</td>\n",
       "      <td>5041</td>\n",
       "    </tr>\n",
       "    <tr>\n",
       "      <th>8</th>\n",
       "      <td>M</td>\n",
       "      <td>Clothing</td>\n",
       "      <td>3748</td>\n",
       "    </tr>\n",
       "    <tr>\n",
       "      <th>10</th>\n",
       "      <td>M</td>\n",
       "      <td>Footwear</td>\n",
       "      <td>3555</td>\n",
       "    </tr>\n",
       "    <tr>\n",
       "      <th>6</th>\n",
       "      <td>M</td>\n",
       "      <td>Bags</td>\n",
       "      <td>2346</td>\n",
       "    </tr>\n",
       "    <tr>\n",
       "      <th>1</th>\n",
       "      <td>F</td>\n",
       "      <td>Books</td>\n",
       "      <td>7070</td>\n",
       "    </tr>\n",
       "    <tr>\n",
       "      <th>3</th>\n",
       "      <td>F</td>\n",
       "      <td>Electronics</td>\n",
       "      <td>5832</td>\n",
       "    </tr>\n",
       "    <tr>\n",
       "      <th>5</th>\n",
       "      <td>F</td>\n",
       "      <td>Home and kitchen</td>\n",
       "      <td>4895</td>\n",
       "    </tr>\n",
       "    <tr>\n",
       "      <th>4</th>\n",
       "      <td>F</td>\n",
       "      <td>Footwear</td>\n",
       "      <td>3716</td>\n",
       "    </tr>\n",
       "    <tr>\n",
       "      <th>2</th>\n",
       "      <td>F</td>\n",
       "      <td>Clothing</td>\n",
       "      <td>3425</td>\n",
       "    </tr>\n",
       "    <tr>\n",
       "      <th>0</th>\n",
       "      <td>F</td>\n",
       "      <td>Bags</td>\n",
       "      <td>2362</td>\n",
       "    </tr>\n",
       "  </tbody>\n",
       "</table>\n",
       "</div>"
      ],
      "text/plain": [
       "   Gender          prod_cat   Qty\n",
       "7       M             Books  7587\n",
       "9       M       Electronics  6476\n",
       "11      M  Home and kitchen  5041\n",
       "8       M          Clothing  3748\n",
       "10      M          Footwear  3555\n",
       "6       M              Bags  2346\n",
       "1       F             Books  7070\n",
       "3       F       Electronics  5832\n",
       "5       F  Home and kitchen  4895\n",
       "4       F          Footwear  3716\n",
       "2       F          Clothing  3425\n",
       "0       F              Bags  2362"
      ]
     },
     "execution_count": 99,
     "metadata": {},
     "output_type": "execute_result"
    }
   ],
   "source": [
    "Customer_Final.groupby(['Gender','prod_cat'])['Qty'].sum().reset_index().sort_values(by=['Gender','Qty'],ascending=False)"
   ]
  },
  {
   "cell_type": "raw",
   "id": "283afb5c",
   "metadata": {},
   "source": [
    "Q6"
   ]
  },
  {
   "cell_type": "code",
   "execution_count": 122,
   "id": "041d4ee2",
   "metadata": {},
   "outputs": [
    {
     "data": {
      "text/html": [
       "<div>\n",
       "<style scoped>\n",
       "    .dataframe tbody tr th:only-of-type {\n",
       "        vertical-align: middle;\n",
       "    }\n",
       "\n",
       "    .dataframe tbody tr th {\n",
       "        vertical-align: top;\n",
       "    }\n",
       "\n",
       "    .dataframe thead th {\n",
       "        text-align: right;\n",
       "    }\n",
       "</style>\n",
       "<table border=\"1\" class=\"dataframe\">\n",
       "  <thead>\n",
       "    <tr style=\"text-align: right;\">\n",
       "      <th></th>\n",
       "      <th>city_code</th>\n",
       "      <th>customer_Id</th>\n",
       "    </tr>\n",
       "  </thead>\n",
       "  <tbody>\n",
       "    <tr>\n",
       "      <th>3</th>\n",
       "      <td>4.0</td>\n",
       "      <td>2422</td>\n",
       "    </tr>\n",
       "    <tr>\n",
       "      <th>2</th>\n",
       "      <td>3.0</td>\n",
       "      <td>2411</td>\n",
       "    </tr>\n",
       "    <tr>\n",
       "      <th>4</th>\n",
       "      <td>5.0</td>\n",
       "      <td>2360</td>\n",
       "    </tr>\n",
       "    <tr>\n",
       "      <th>6</th>\n",
       "      <td>7.0</td>\n",
       "      <td>2356</td>\n",
       "    </tr>\n",
       "    <tr>\n",
       "      <th>9</th>\n",
       "      <td>10.0</td>\n",
       "      <td>2333</td>\n",
       "    </tr>\n",
       "    <tr>\n",
       "      <th>7</th>\n",
       "      <td>8.0</td>\n",
       "      <td>2330</td>\n",
       "    </tr>\n",
       "    <tr>\n",
       "      <th>1</th>\n",
       "      <td>2.0</td>\n",
       "      <td>2270</td>\n",
       "    </tr>\n",
       "    <tr>\n",
       "      <th>0</th>\n",
       "      <td>1.0</td>\n",
       "      <td>2258</td>\n",
       "    </tr>\n",
       "    <tr>\n",
       "      <th>8</th>\n",
       "      <td>9.0</td>\n",
       "      <td>2178</td>\n",
       "    </tr>\n",
       "    <tr>\n",
       "      <th>5</th>\n",
       "      <td>6.0</td>\n",
       "      <td>2127</td>\n",
       "    </tr>\n",
       "  </tbody>\n",
       "</table>\n",
       "</div>"
      ],
      "text/plain": [
       "   city_code  customer_Id\n",
       "3        4.0         2422\n",
       "2        3.0         2411\n",
       "4        5.0         2360\n",
       "6        7.0         2356\n",
       "9       10.0         2333\n",
       "7        8.0         2330\n",
       "1        2.0         2270\n",
       "0        1.0         2258\n",
       "8        9.0         2178\n",
       "5        6.0         2127"
      ]
     },
     "execution_count": 122,
     "metadata": {},
     "output_type": "execute_result"
    }
   ],
   "source": [
    "df1 = pd.DataFrame(Customer_Final.groupby('city_code')['customer_Id'].count().reset_index()).sort_values(by='customer_Id',ascending=False)\n",
    "df1"
   ]
  },
  {
   "cell_type": "code",
   "execution_count": 131,
   "id": "e8d1f2dc",
   "metadata": {},
   "outputs": [
    {
     "data": {
      "text/plain": [
       "10.509871989585594"
      ]
     },
     "execution_count": 131,
     "metadata": {},
     "output_type": "execute_result"
    }
   ],
   "source": [
    "list(df1.loc[df1['city_code']==4.0,'customer_Id']/(df1['customer_Id'].sum())*100)[0]"
   ]
  },
  {
   "cell_type": "code",
   "execution_count": 133,
   "id": "04d960b8",
   "metadata": {},
   "outputs": [
    {
     "name": "stdout",
     "output_type": "stream",
     "text": [
      "City code 4 has the maximum number of customers and the percentage of customers from this city are: 10.509871989585594\n"
     ]
    }
   ],
   "source": [
    "print(\"City code 4 has the maximum number of customers and the percentage of customers from this city are: \"+str(list(df1.loc[df1['city_code']==4.0,'customer_Id']/(df1['customer_Id'].sum())*100)[0]))"
   ]
  },
  {
   "cell_type": "raw",
   "id": "f3c85fd9",
   "metadata": {},
   "source": [
    "Q7"
   ]
  },
  {
   "cell_type": "code",
   "execution_count": 94,
   "id": "40d1fb92",
   "metadata": {},
   "outputs": [
    {
     "data": {
      "text/html": [
       "<div>\n",
       "<style scoped>\n",
       "    .dataframe tbody tr th:only-of-type {\n",
       "        vertical-align: middle;\n",
       "    }\n",
       "\n",
       "    .dataframe tbody tr th {\n",
       "        vertical-align: top;\n",
       "    }\n",
       "\n",
       "    .dataframe thead th {\n",
       "        text-align: right;\n",
       "    }\n",
       "</style>\n",
       "<table border=\"1\" class=\"dataframe\">\n",
       "  <thead>\n",
       "    <tr style=\"text-align: right;\">\n",
       "      <th></th>\n",
       "      <th>Store_type</th>\n",
       "      <th>total_amt</th>\n",
       "      <th>Qty</th>\n",
       "    </tr>\n",
       "  </thead>\n",
       "  <tbody>\n",
       "    <tr>\n",
       "      <th>3</th>\n",
       "      <td>e-Shop</td>\n",
       "      <td>1.982482e+07</td>\n",
       "      <td>22763</td>\n",
       "    </tr>\n",
       "    <tr>\n",
       "      <th>0</th>\n",
       "      <td>Flagship store</td>\n",
       "      <td>9.715688e+06</td>\n",
       "      <td>11133</td>\n",
       "    </tr>\n",
       "    <tr>\n",
       "      <th>1</th>\n",
       "      <td>MBR</td>\n",
       "      <td>9.674486e+06</td>\n",
       "      <td>11194</td>\n",
       "    </tr>\n",
       "    <tr>\n",
       "      <th>2</th>\n",
       "      <td>TeleShop</td>\n",
       "      <td>9.364781e+06</td>\n",
       "      <td>10984</td>\n",
       "    </tr>\n",
       "  </tbody>\n",
       "</table>\n",
       "</div>"
      ],
      "text/plain": [
       "       Store_type     total_amt    Qty\n",
       "3          e-Shop  1.982482e+07  22763\n",
       "0  Flagship store  9.715688e+06  11133\n",
       "1             MBR  9.674486e+06  11194\n",
       "2        TeleShop  9.364781e+06  10984"
      ]
     },
     "execution_count": 94,
     "metadata": {},
     "output_type": "execute_result"
    }
   ],
   "source": [
    "Customer_Final.groupby('Store_type')[['total_amt','Qty']].agg({'total_amt':sum,'Qty':sum}).reset_index().sort_values(by=['total_amt','Qty'],ascending=False)"
   ]
  },
  {
   "cell_type": "code",
   "execution_count": 134,
   "id": "0673a10e",
   "metadata": {},
   "outputs": [],
   "source": [
    "#e-shop sells the maximum product by value and quantity"
   ]
  },
  {
   "cell_type": "raw",
   "id": "8f1b1958",
   "metadata": {},
   "source": [
    "Q8)"
   ]
  },
  {
   "cell_type": "code",
   "execution_count": 141,
   "id": "17f01ce8",
   "metadata": {},
   "outputs": [],
   "source": [
    "df2 = Customer_Final.groupby(['Store_type','prod_cat'])['total_amt'].sum().reset_index()"
   ]
  },
  {
   "cell_type": "code",
   "execution_count": 147,
   "id": "f3446de0",
   "metadata": {},
   "outputs": [
    {
     "name": "stdout",
     "output_type": "stream",
     "text": [
      "The total amount earned from the electronics and clothing category from the flagship stores are: 3409559.27\n"
     ]
    }
   ],
   "source": [
    "print(\"The total amount earned from the electronics and clothing category from the flagship stores are: \"+str(df2.loc[((df2['prod_cat']=='Electronics')|(df2['prod_cat']=='Clothing'))&(df2['Store_type']=='Flagship store'),'total_amt'].sum(axis=0)))"
   ]
  },
  {
   "cell_type": "raw",
   "id": "78bae573",
   "metadata": {},
   "source": [
    "Q9)"
   ]
  },
  {
   "cell_type": "code",
   "execution_count": 149,
   "id": "5102d646",
   "metadata": {},
   "outputs": [],
   "source": [
    "df3 = Customer_Final.groupby(['Gender','prod_cat'])['total_amt'].sum().reset_index()"
   ]
  },
  {
   "cell_type": "code",
   "execution_count": 150,
   "id": "1536d434",
   "metadata": {},
   "outputs": [
    {
     "name": "stdout",
     "output_type": "stream",
     "text": [
      "The total amount earned from the male customers in the electronics category are: 5703109.425\n"
     ]
    }
   ],
   "source": [
    "print(\"The total amount earned from the male customers in the electronics category are: \"+str(df3.loc[(df3['Gender']=='M')&(df3['prod_cat']=='Electronics'),'total_amt'].sum(axis=0)))"
   ]
  },
  {
   "cell_type": "raw",
   "id": "3e188490",
   "metadata": {},
   "source": [
    "Q10)"
   ]
  },
  {
   "cell_type": "code",
   "execution_count": 154,
   "id": "5a5e9809",
   "metadata": {},
   "outputs": [],
   "source": [
    "df3 = Customer_Final.loc[Customer_Final['total_amt']>=0,:]"
   ]
  },
  {
   "cell_type": "code",
   "execution_count": 163,
   "id": "039d36d5",
   "metadata": {},
   "outputs": [],
   "source": [
    "df4 = df3.groupby('cust_id')['transaction_id'].nunique().reset_index()"
   ]
  },
  {
   "cell_type": "code",
   "execution_count": 164,
   "id": "d76a36cd",
   "metadata": {},
   "outputs": [],
   "source": [
    "df5 = df4.loc[df4['transaction_id']>=10,:]"
   ]
  },
  {
   "cell_type": "code",
   "execution_count": 166,
   "id": "d8cd132a",
   "metadata": {},
   "outputs": [
    {
     "name": "stdout",
     "output_type": "stream",
     "text": [
      "The number of customers with more than 10 unique transactions are: 27\n"
     ]
    }
   ],
   "source": [
    "print(\"The number of customers with more than 10 unique transactions are: \" +str(df5.shape[0]))"
   ]
  },
  {
   "cell_type": "raw",
   "id": "055e7372",
   "metadata": {},
   "source": [
    "Q11)"
   ]
  },
  {
   "cell_type": "raw",
   "id": "2de4eb0b",
   "metadata": {},
   "source": [
    "a)"
   ]
  },
  {
   "cell_type": "code",
   "execution_count": 167,
   "id": "b36a2919",
   "metadata": {},
   "outputs": [
    {
     "data": {
      "text/plain": [
       "Index(['transaction_id', 'cust_id', 'tran_date', 'prod_subcat_code',\n",
       "       'prod_cat_code', 'Qty', 'Rate', 'Tax', 'total_amt', 'Store_type',\n",
       "       'customer_Id', 'DOB', 'Gender', 'city_code', 'prod_cat',\n",
       "       'prod_sub_cat_code', 'prod_subcat'],\n",
       "      dtype='object')"
      ]
     },
     "execution_count": 167,
     "metadata": {},
     "output_type": "execute_result"
    }
   ],
   "source": [
    "Customer_Final.columns"
   ]
  },
  {
   "cell_type": "code",
   "execution_count": 169,
   "id": "c8f05cdd",
   "metadata": {},
   "outputs": [
    {
     "data": {
      "text/plain": [
       "dtype('O')"
      ]
     },
     "execution_count": 169,
     "metadata": {},
     "output_type": "execute_result"
    }
   ],
   "source": [
    "Customer_Final['DOB'].dtypes"
   ]
  },
  {
   "cell_type": "code",
   "execution_count": 170,
   "id": "e210126c",
   "metadata": {},
   "outputs": [],
   "source": [
    "Customer_Final['DOB'] = pd.to_datetime(Customer_Final['DOB'],format=\"%d-%m-%Y\")"
   ]
  },
  {
   "cell_type": "code",
   "execution_count": 171,
   "id": "20c1ff8f",
   "metadata": {},
   "outputs": [
    {
     "data": {
      "text/plain": [
       "dtype('<M8[ns]')"
      ]
     },
     "execution_count": 171,
     "metadata": {},
     "output_type": "execute_result"
    }
   ],
   "source": [
    "Customer_Final['DOB'].dtypes"
   ]
  },
  {
   "cell_type": "code",
   "execution_count": 175,
   "id": "209875f0",
   "metadata": {},
   "outputs": [],
   "source": [
    "Customer_Final['Year'] = Customer_Final['DOB'].apply(lambda x: pd.to_datetime('today').year-x.year)"
   ]
  },
  {
   "cell_type": "code",
   "execution_count": 178,
   "id": "1494c6c2",
   "metadata": {},
   "outputs": [],
   "source": [
    "df6 = Customer_Final.loc[(Customer_Final['Year']>=25)&(Customer_Final['Year']<=35),:]"
   ]
  },
  {
   "cell_type": "code",
   "execution_count": 181,
   "id": "3af9c695",
   "metadata": {},
   "outputs": [],
   "source": [
    "df7 = df6.groupby('prod_cat')['total_amt'].sum().reset_index()"
   ]
  },
  {
   "cell_type": "code",
   "execution_count": 194,
   "id": "8dbfca76",
   "metadata": {},
   "outputs": [
    {
     "name": "stdout",
     "output_type": "stream",
     "text": [
      "Total amount spent by the customers aged between 25 and 35 for the electronics and books categories is: 3715493.99\n"
     ]
    }
   ],
   "source": [
    "print(\"Total amount spent by the customers aged between 25 and 35 for the electronics and books categories is: \"+str(df7.loc[(df7['prod_cat']=='Electronics')|(df7['prod_cat']=='Clothing'),'total_amt'].sum(axis=0)))"
   ]
  },
  {
   "cell_type": "raw",
   "id": "557fc6fe",
   "metadata": {},
   "source": [
    "b) b. What was the total amount spent by these customers between 1st Jan, 2014 to 1st Mar, 2014?\n"
   ]
  },
  {
   "cell_type": "code",
   "execution_count": 204,
   "id": "8cfdfcc8",
   "metadata": {},
   "outputs": [],
   "source": [
    "df8 = df6.loc[(df6['tran_date']>=pd.to_datetime('01-01-2014',format=\"%d-%m-%Y\"))& (df6['tran_date']<=pd.to_datetime('01-03-2014',format=\"%d-%m-%Y\")),:]"
   ]
  },
  {
   "cell_type": "code",
   "execution_count": 205,
   "id": "708ea4a6",
   "metadata": {},
   "outputs": [
    {
     "name": "stdout",
     "output_type": "stream",
     "text": [
      "The total amount spent by customers between 1st Jan 2014 and 1st Mar 2014 is: 546350.675\n"
     ]
    }
   ],
   "source": [
    "print(\"The total amount spent by customers between 1st Jan 2014 and 1st Mar 2014 is: \"+str(df8['total_amt'].sum(axis=0)))"
   ]
  },
  {
   "cell_type": "code",
   "execution_count": null,
   "id": "a7891a51",
   "metadata": {},
   "outputs": [],
   "source": []
  }
 ],
 "metadata": {
  "kernelspec": {
   "display_name": "Python 3 (ipykernel)",
   "language": "python",
   "name": "python3"
  },
  "language_info": {
   "codemirror_mode": {
    "name": "ipython",
    "version": 3
   },
   "file_extension": ".py",
   "mimetype": "text/x-python",
   "name": "python",
   "nbconvert_exporter": "python",
   "pygments_lexer": "ipython3",
   "version": "3.9.13"
  }
 },
 "nbformat": 4,
 "nbformat_minor": 5
}
